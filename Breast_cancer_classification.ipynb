{
 "cells": [
  {
   "cell_type": "code",
   "execution_count": null,
   "id": "12622b2f-8f57-4baa-bc31-f72af243eeab",
   "metadata": {},
   "outputs": [],
   "source": [
    "# ML-Classification "
   ]
  },
  {
   "cell_type": "code",
   "execution_count": 117,
   "id": "06626f61-b288-44c9-8f20-07635961cb1e",
   "metadata": {},
   "outputs": [],
   "source": [
    "import pandas as pd\n",
    "import numpy as np\n",
    "from sklearn.datasets import load_breast_cancer\n",
    "from sklearn.model_selection import train_test_split\n",
    "from sklearn.preprocessing import StandardScaler\n",
    "from sklearn.linear_model import LogisticRegression\n",
    "from sklearn.tree import DecisionTreeClassifier\n",
    "from sklearn.ensemble import RandomForestClassifier\n",
    "from sklearn.svm import SVC\n",
    "from sklearn.neighbors import KNeighborsClassifier\n",
    "from sklearn.metrics import accuracy_score,classification_report\n"
   ]
  },
  {
   "cell_type": "code",
   "execution_count": null,
   "id": "cffa1adb-92d7-41aa-8307-4870ab760ebe",
   "metadata": {},
   "outputs": [],
   "source": [
    "#  1. Loading and Preprocessing\n",
    "# -----------------------------------------------------------------------------------------------------"
   ]
  },
  {
   "cell_type": "code",
   "execution_count": 119,
   "id": "95992509-be6e-425b-b1cf-c17ce6c0a2ee",
   "metadata": {},
   "outputs": [],
   "source": [
    "# Loading the dataset\n",
    "breast_cancer=load_breast_cancer(as_frame=True)\n",
    "df=breast_cancer.frame"
   ]
  },
  {
   "cell_type": "code",
   "execution_count": 121,
   "id": "64fda718-759d-4c0c-8001-14f1595752ce",
   "metadata": {},
   "outputs": [
    {
     "name": "stdout",
     "output_type": "stream",
     "text": [
      "   mean radius  mean texture  mean perimeter  mean area  mean smoothness  \\\n",
      "0        17.99         10.38          122.80     1001.0          0.11840   \n",
      "1        20.57         17.77          132.90     1326.0          0.08474   \n",
      "2        19.69         21.25          130.00     1203.0          0.10960   \n",
      "3        11.42         20.38           77.58      386.1          0.14250   \n",
      "4        20.29         14.34          135.10     1297.0          0.10030   \n",
      "\n",
      "   mean compactness  mean concavity  mean concave points  mean symmetry  \\\n",
      "0           0.27760          0.3001              0.14710         0.2419   \n",
      "1           0.07864          0.0869              0.07017         0.1812   \n",
      "2           0.15990          0.1974              0.12790         0.2069   \n",
      "3           0.28390          0.2414              0.10520         0.2597   \n",
      "4           0.13280          0.1980              0.10430         0.1809   \n",
      "\n",
      "   mean fractal dimension  ...  worst texture  worst perimeter  worst area  \\\n",
      "0                 0.07871  ...          17.33           184.60      2019.0   \n",
      "1                 0.05667  ...          23.41           158.80      1956.0   \n",
      "2                 0.05999  ...          25.53           152.50      1709.0   \n",
      "3                 0.09744  ...          26.50            98.87       567.7   \n",
      "4                 0.05883  ...          16.67           152.20      1575.0   \n",
      "\n",
      "   worst smoothness  worst compactness  worst concavity  worst concave points  \\\n",
      "0            0.1622             0.6656           0.7119                0.2654   \n",
      "1            0.1238             0.1866           0.2416                0.1860   \n",
      "2            0.1444             0.4245           0.4504                0.2430   \n",
      "3            0.2098             0.8663           0.6869                0.2575   \n",
      "4            0.1374             0.2050           0.4000                0.1625   \n",
      "\n",
      "   worst symmetry  worst fractal dimension  target  \n",
      "0          0.4601                  0.11890       0  \n",
      "1          0.2750                  0.08902       0  \n",
      "2          0.3613                  0.08758       0  \n",
      "3          0.6638                  0.17300       0  \n",
      "4          0.2364                  0.07678       0  \n",
      "\n",
      "[5 rows x 31 columns]\n"
     ]
    }
   ],
   "source": [
    "print(df.head())"
   ]
  },
  {
   "cell_type": "code",
   "execution_count": 83,
   "id": "5b3eeb8c-bd0e-4a61-b4bb-d3695abbd33f",
   "metadata": {},
   "outputs": [
    {
     "name": "stdout",
     "output_type": "stream",
     "text": [
      "       mean radius  mean texture  mean perimeter    mean area  \\\n",
      "count   569.000000    569.000000      569.000000   569.000000   \n",
      "mean     14.127292     19.289649       91.969033   654.889104   \n",
      "std       3.524049      4.301036       24.298981   351.914129   \n",
      "min       6.981000      9.710000       43.790000   143.500000   \n",
      "25%      11.700000     16.170000       75.170000   420.300000   \n",
      "50%      13.370000     18.840000       86.240000   551.100000   \n",
      "75%      15.780000     21.800000      104.100000   782.700000   \n",
      "max      28.110000     39.280000      188.500000  2501.000000   \n",
      "\n",
      "       mean smoothness  mean compactness  mean concavity  mean concave points  \\\n",
      "count       569.000000        569.000000      569.000000           569.000000   \n",
      "mean          0.096360          0.104341        0.088799             0.048919   \n",
      "std           0.014064          0.052813        0.079720             0.038803   \n",
      "min           0.052630          0.019380        0.000000             0.000000   \n",
      "25%           0.086370          0.064920        0.029560             0.020310   \n",
      "50%           0.095870          0.092630        0.061540             0.033500   \n",
      "75%           0.105300          0.130400        0.130700             0.074000   \n",
      "max           0.163400          0.345400        0.426800             0.201200   \n",
      "\n",
      "       mean symmetry  mean fractal dimension  ...  worst texture  \\\n",
      "count     569.000000              569.000000  ...     569.000000   \n",
      "mean        0.181162                0.062798  ...      25.677223   \n",
      "std         0.027414                0.007060  ...       6.146258   \n",
      "min         0.106000                0.049960  ...      12.020000   \n",
      "25%         0.161900                0.057700  ...      21.080000   \n",
      "50%         0.179200                0.061540  ...      25.410000   \n",
      "75%         0.195700                0.066120  ...      29.720000   \n",
      "max         0.304000                0.097440  ...      49.540000   \n",
      "\n",
      "       worst perimeter   worst area  worst smoothness  worst compactness  \\\n",
      "count       569.000000   569.000000        569.000000         569.000000   \n",
      "mean        107.261213   880.583128          0.132369           0.254265   \n",
      "std          33.602542   569.356993          0.022832           0.157336   \n",
      "min          50.410000   185.200000          0.071170           0.027290   \n",
      "25%          84.110000   515.300000          0.116600           0.147200   \n",
      "50%          97.660000   686.500000          0.131300           0.211900   \n",
      "75%         125.400000  1084.000000          0.146000           0.339100   \n",
      "max         251.200000  4254.000000          0.222600           1.058000   \n",
      "\n",
      "       worst concavity  worst concave points  worst symmetry  \\\n",
      "count       569.000000            569.000000      569.000000   \n",
      "mean          0.272188              0.114606        0.290076   \n",
      "std           0.208624              0.065732        0.061867   \n",
      "min           0.000000              0.000000        0.156500   \n",
      "25%           0.114500              0.064930        0.250400   \n",
      "50%           0.226700              0.099930        0.282200   \n",
      "75%           0.382900              0.161400        0.317900   \n",
      "max           1.252000              0.291000        0.663800   \n",
      "\n",
      "       worst fractal dimension      target  \n",
      "count               569.000000  569.000000  \n",
      "mean                  0.083946    0.627417  \n",
      "std                   0.018061    0.483918  \n",
      "min                   0.055040    0.000000  \n",
      "25%                   0.071460    0.000000  \n",
      "50%                   0.080040    1.000000  \n",
      "75%                   0.092080    1.000000  \n",
      "max                   0.207500    1.000000  \n",
      "\n",
      "[8 rows x 31 columns]\n"
     ]
    }
   ],
   "source": [
    "print(df.describe())"
   ]
  },
  {
   "cell_type": "code",
   "execution_count": 85,
   "id": "26992013-ca9c-4ee4-a3d6-233da749c71f",
   "metadata": {},
   "outputs": [
    {
     "name": "stdout",
     "output_type": "stream",
     "text": [
      "<class 'pandas.core.frame.DataFrame'>\n",
      "RangeIndex: 569 entries, 0 to 568\n",
      "Data columns (total 31 columns):\n",
      " #   Column                   Non-Null Count  Dtype  \n",
      "---  ------                   --------------  -----  \n",
      " 0   mean radius              569 non-null    float64\n",
      " 1   mean texture             569 non-null    float64\n",
      " 2   mean perimeter           569 non-null    float64\n",
      " 3   mean area                569 non-null    float64\n",
      " 4   mean smoothness          569 non-null    float64\n",
      " 5   mean compactness         569 non-null    float64\n",
      " 6   mean concavity           569 non-null    float64\n",
      " 7   mean concave points      569 non-null    float64\n",
      " 8   mean symmetry            569 non-null    float64\n",
      " 9   mean fractal dimension   569 non-null    float64\n",
      " 10  radius error             569 non-null    float64\n",
      " 11  texture error            569 non-null    float64\n",
      " 12  perimeter error          569 non-null    float64\n",
      " 13  area error               569 non-null    float64\n",
      " 14  smoothness error         569 non-null    float64\n",
      " 15  compactness error        569 non-null    float64\n",
      " 16  concavity error          569 non-null    float64\n",
      " 17  concave points error     569 non-null    float64\n",
      " 18  symmetry error           569 non-null    float64\n",
      " 19  fractal dimension error  569 non-null    float64\n",
      " 20  worst radius             569 non-null    float64\n",
      " 21  worst texture            569 non-null    float64\n",
      " 22  worst perimeter          569 non-null    float64\n",
      " 23  worst area               569 non-null    float64\n",
      " 24  worst smoothness         569 non-null    float64\n",
      " 25  worst compactness        569 non-null    float64\n",
      " 26  worst concavity          569 non-null    float64\n",
      " 27  worst concave points     569 non-null    float64\n",
      " 28  worst symmetry           569 non-null    float64\n",
      " 29  worst fractal dimension  569 non-null    float64\n",
      " 30  target                   569 non-null    int32  \n",
      "dtypes: float64(30), int32(1)\n",
      "memory usage: 135.7 KB\n",
      "None\n"
     ]
    }
   ],
   "source": [
    "print(df.info())"
   ]
  },
  {
   "cell_type": "code",
   "execution_count": 123,
   "id": "f55791a0-5c4e-45b1-bcfc-606cc6e3e63f",
   "metadata": {},
   "outputs": [
    {
     "name": "stdout",
     "output_type": "stream",
     "text": [
      "target\n",
      "1    357\n",
      "0    212\n",
      "Name: count, dtype: int64\n"
     ]
    }
   ],
   "source": [
    "print(df['target'].value_counts())"
   ]
  },
  {
   "cell_type": "code",
   "execution_count": 125,
   "id": "8b40aa2f-113e-42dc-a4c6-bfb28d3af80c",
   "metadata": {},
   "outputs": [
    {
     "name": "stdout",
     "output_type": "stream",
     "text": [
      "1 indicates malignent and 0 indicates benign\n"
     ]
    }
   ],
   "source": [
    "print(\"1 indicates malignent and 0 indicates benign\")"
   ]
  },
  {
   "cell_type": "code",
   "execution_count": null,
   "id": "ef1bfad4-53c6-433b-8547-ad711cd68f9d",
   "metadata": {},
   "outputs": [],
   "source": [
    "# preprocessing"
   ]
  },
  {
   "cell_type": "code",
   "execution_count": 127,
   "id": "182fbaee-d59f-4b2d-98e3-699dbfddf9ab",
   "metadata": {},
   "outputs": [
    {
     "name": "stdout",
     "output_type": "stream",
     "text": [
      "mean radius                0\n",
      "mean texture               0\n",
      "mean perimeter             0\n",
      "mean area                  0\n",
      "mean smoothness            0\n",
      "mean compactness           0\n",
      "mean concavity             0\n",
      "mean concave points        0\n",
      "mean symmetry              0\n",
      "mean fractal dimension     0\n",
      "radius error               0\n",
      "texture error              0\n",
      "perimeter error            0\n",
      "area error                 0\n",
      "smoothness error           0\n",
      "compactness error          0\n",
      "concavity error            0\n",
      "concave points error       0\n",
      "symmetry error             0\n",
      "fractal dimension error    0\n",
      "worst radius               0\n",
      "worst texture              0\n",
      "worst perimeter            0\n",
      "worst area                 0\n",
      "worst smoothness           0\n",
      "worst compactness          0\n",
      "worst concavity            0\n",
      "worst concave points       0\n",
      "worst symmetry             0\n",
      "worst fractal dimension    0\n",
      "target                     0\n",
      "dtype: int64\n"
     ]
    }
   ],
   "source": [
    "# checking null values\n",
    "print(df.isnull().sum())"
   ]
  },
  {
   "cell_type": "code",
   "execution_count": 129,
   "id": "1dd6e313-a997-4b73-81c2-d315f4d4fdd1",
   "metadata": {},
   "outputs": [
    {
     "name": "stdout",
     "output_type": "stream",
     "text": [
      "there is no null values\n"
     ]
    }
   ],
   "source": [
    "print(\"there is no null values\")"
   ]
  },
  {
   "cell_type": "code",
   "execution_count": 131,
   "id": "657269db-3469-4850-bc13-3d785bead140",
   "metadata": {},
   "outputs": [],
   "source": [
    "# Feature scaling\n",
    "x=df.drop('target',axis=1)\n",
    "y=df['target']"
   ]
  },
  {
   "cell_type": "code",
   "execution_count": 147,
   "id": "1036baeb-298c-4a97-812a-e4347031b7eb",
   "metadata": {},
   "outputs": [],
   "source": [
    "# Train-Test Split\n",
    "x_train,x_test,y_train,y_test=train_test_split(x,y,test_size=0.2,random_state=42)"
   ]
  },
  {
   "cell_type": "code",
   "execution_count": 149,
   "id": "61829fe7-ab3c-462c-9734-e9531c40a1ff",
   "metadata": {},
   "outputs": [],
   "source": [
    "# standerdization\n",
    "x_train_scaled=scaler.fit_transform(x_train)\n",
    "x_test_scaled=scaler.transform(x_test)"
   ]
  },
  {
   "cell_type": "code",
   "execution_count": 201,
   "id": "87cd7c70-f8e6-41ff-8891-e65fd0e30abb",
   "metadata": {},
   "outputs": [
    {
     "name": "stdout",
     "output_type": "stream",
     "text": [
      "here we use standerdization technique inorder to  transforms the features to have a mean of 0 and a standard deviation of 1. This brings all features to a similar scale, preventing any single feature from unduly influencing the model.\n"
     ]
    }
   ],
   "source": [
    "print(\"here we use standerdization technique inorder to  transforms the features to have a mean of 0 and a standard deviation of 1. This brings all features to a similar scale, preventing any single feature from unduly influencing the model.\")\n",
    "\n"
   ]
  },
  {
   "cell_type": "code",
   "execution_count": null,
   "id": "9b987c9d-c776-46b7-b791-b9b742c2133f",
   "metadata": {},
   "outputs": [],
   "source": [
    "# 2)Classification Algorithm Implementation \n",
    "# ---------------------------------------------------------------------------------------------------"
   ]
  },
  {
   "cell_type": "code",
   "execution_count": 157,
   "id": "c01b6ce6-e552-461c-8fd0-b3af3d575d5b",
   "metadata": {},
   "outputs": [
    {
     "name": "stdout",
     "output_type": "stream",
     "text": [
      "Logistic Regression: A linear model for binary classification. It's simple and efficient. Suitable when the relationship between features and the target is approximately linear.\n",
      "Decision Tree Classifier: Creates a tree-like structure to make decisions. Good for capturing non-linear relationships.\n",
      "Random Forest Classifier: An ensemble of decision trees. Robust and often provides high accuracy.\n",
      "SVM: Finds the optimal hyperplane to separate classes. Effective in high-dimensional spaces.\n",
      "k-NN: Classifies based on the majority class of the k-nearest neighbors. Simple and intuitive.\n"
     ]
    }
   ],
   "source": [
    "# 1.logistic regression\n",
    "lr=LogisticRegression(random_state=42)\n",
    "lr.fit(x_train_scaled,y_train)\n",
    "y_pred_lr=lr.predict(x_test_scaled)\n",
    "print(\"Logistic Regression: A linear model for binary classification. It's simple and efficient. Suitable when the relationship between features and the target is approximately linear.\")\n",
    "\n",
    "\n",
    "# 2.Decision Tree Classifier\n",
    "dt=DecisionTreeClassifier()\n",
    "dt.fit(x_train_scaled,y_train)\n",
    "y_pred_dt=dt.predict(x_test_scaled)\n",
    "print(\"Decision Tree Classifier: Creates a tree-like structure to make decisions. Good for capturing non-linear relationships.\")\n",
    "\n",
    "\n",
    "# 3.Random Forest Classifier\n",
    "rf=RandomForestClassifier()\n",
    "rf.fit(x_train_scaled,y_train)\n",
    "y_pred_rf=rf.predict(x_test_scaled)\n",
    "print(\"Random Forest Classifier: An ensemble of decision trees. Robust and often provides high accuracy.\")\n",
    "\n",
    "\n",
    "# 4.Support Vector Machine\n",
    "svm=SVC()\n",
    "svm.fit(x_train_scaled,y_train)\n",
    "y_pred_svm=svm.predict(x_test_scaled)\n",
    "print(\"SVM: Finds the optimal hyperplane to separate classes. Effective in high-dimensional spaces.\")\n",
    "\n",
    "\n",
    "# 5.k-Nearest Neighbors (k-NN)\n",
    "knn=KNeighborsClassifier()\n",
    "knn.fit(x_train_scaled,y_train)\n",
    "y_pred_knn=knn.predict(x_test_scaled)\n",
    "print(\"k-NN: Classifies based on the majority class of the k-nearest neighbors. Simple and intuitive.\")\n"
   ]
  },
  {
   "cell_type": "code",
   "execution_count": null,
   "id": "d66db5d8-3c4f-4510-b993-a04089594ddc",
   "metadata": {},
   "outputs": [],
   "source": [
    "# 3)Model Comparison\n",
    "# ----------------------------------------------------------------------------------------"
   ]
  },
  {
   "cell_type": "code",
   "execution_count": 187,
   "id": "9624dcd6-da08-4b96-a94d-666d24ff94c0",
   "metadata": {},
   "outputs": [
    {
     "name": "stdout",
     "output_type": "stream",
     "text": [
      "Logistic Regression:\n",
      "Accuracy: 0.9736842105263158\n",
      "Classification Report:\n",
      "               precision    recall  f1-score   support\n",
      "\n",
      "           0       0.98      0.95      0.96        43\n",
      "           1       0.97      0.99      0.98        71\n",
      "\n",
      "    accuracy                           0.97       114\n",
      "   macro avg       0.97      0.97      0.97       114\n",
      "weighted avg       0.97      0.97      0.97       114\n",
      "\n",
      "\n",
      "Decision Tree Classifier:\n",
      "Accuracy: 0.9473684210526315\n",
      "Classification Report:\n",
      "               precision    recall  f1-score   support\n",
      "\n",
      "           0       0.93      0.93      0.93        43\n",
      "           1       0.96      0.96      0.96        71\n",
      "\n",
      "    accuracy                           0.95       114\n",
      "   macro avg       0.94      0.94      0.94       114\n",
      "weighted avg       0.95      0.95      0.95       114\n",
      "\n",
      "\n",
      "Random Forest Classifier:\n",
      "Accuracy: 0.9649122807017544\n",
      "Classification Report:\n",
      "               precision    recall  f1-score   support\n",
      "\n",
      "           0       0.98      0.93      0.95        43\n",
      "           1       0.96      0.99      0.97        71\n",
      "\n",
      "    accuracy                           0.96       114\n",
      "   macro avg       0.97      0.96      0.96       114\n",
      "weighted avg       0.97      0.96      0.96       114\n",
      "\n",
      "\n",
      "SVM:\n",
      "Accuracy: 0.9824561403508771\n",
      "Classification Report:\n",
      "               precision    recall  f1-score   support\n",
      "\n",
      "           0       1.00      0.95      0.98        43\n",
      "           1       0.97      1.00      0.99        71\n",
      "\n",
      "    accuracy                           0.98       114\n",
      "   macro avg       0.99      0.98      0.98       114\n",
      "weighted avg       0.98      0.98      0.98       114\n",
      "\n",
      "\n",
      "KNN:\n",
      "Accuracy: 0.9473684210526315\n",
      "Classification Report:\n",
      "               precision    recall  f1-score   support\n",
      "\n",
      "           0       0.93      0.93      0.93        43\n",
      "           1       0.96      0.96      0.96        71\n",
      "\n",
      "    accuracy                           0.95       114\n",
      "   macro avg       0.94      0.94      0.94       114\n",
      "weighted avg       0.95      0.95      0.95       114\n",
      "\n"
     ]
    }
   ],
   "source": [
    "# evaluate models\n",
    "# Logistic Regression\n",
    "accuracy_lr = accuracy_score(y_test, y_pred_lr)\n",
    "report_lr = classification_report(y_test, y_pred_lr)\n",
    "print(\"Logistic Regression:\")\n",
    "print(f\"Accuracy: {accuracy_lr}\")\n",
    "print(\"Classification Report:\\n\", report_lr)\n",
    "\n",
    "# Decision Tree Classifier\n",
    "accuracy_dt = accuracy_score(y_test, y_pred_dt)\n",
    "report_dt = classification_report(y_test, y_pred_dt)\n",
    "print(\"\\nDecision Tree Classifier:\")\n",
    "print(f\"Accuracy: {accuracy_dt}\")\n",
    "print(\"Classification Report:\\n\", report_dt)\n",
    "\n",
    "# Random Forest Classifier\n",
    "accuracy_rf = accuracy_score(y_test, y_pred_rf)\n",
    "report_rf = classification_report(y_test, y_pred_rf)\n",
    "print(\"\\nRandom Forest Classifier:\")\n",
    "print(f\"Accuracy: {accuracy_rf}\")\n",
    "print(\"Classification Report:\\n\", report_rf)\n",
    "\n",
    "# SVM\n",
    "accuracy_svm = accuracy_score(y_test, y_pred_svm)\n",
    "report_svm = classification_report(y_test, y_pred_svm)\n",
    "print(\"\\nSVM:\")\n",
    "print(f\"Accuracy: {accuracy_svm}\")\n",
    "print(\"Classification Report:\\n\", report_svm)\n",
    "\n",
    "# KNN\n",
    "accuracy_knn = accuracy_score(y_test, y_pred_knn)\n",
    "report_knn = classification_report(y_test, y_pred_knn)\n",
    "print(\"\\nKNN:\")\n",
    "print(f\"Accuracy: {accuracy_knn}\")\n",
    "print(\"Classification Report:\\n\", report_knn)"
   ]
  },
  {
   "cell_type": "code",
   "execution_count": 197,
   "id": "d4e4833c-019f-48f7-90b8-7fe478ef71bc",
   "metadata": {},
   "outputs": [
    {
     "name": "stdout",
     "output_type": "stream",
     "text": [
      "SVM:\n",
      "Given its excellent performance, SVM should be the preferred model for this breast cancer classification task.\n",
      "0.982456 (Highest),\n",
      " Precision for class 0 (malignant) is 1.00, meaning it predicted all malignant cases correctly.\n",
      " Recall for class 1 (benign) is 1.00, meaning it identified all benign cases.\n",
      " Overall, the F1-scores are very high, indicating strong performance.\n",
      " This model is the best performer.\n"
     ]
    }
   ],
   "source": [
    "# report\n",
    "print(\"SVM:\")\n",
    "print(\"Given its excellent performance, SVM should be the preferred model for this breast cancer classification task.\")\n",
    "print(\"0.982456 (Highest),\\n Precision for class 0 (malignant) is 1.00, meaning it predicted all malignant cases correctly.\\n Recall for class 1 (benign) is 1.00, meaning it identified all benign cases.\\n Overall, the F1-scores are very high, indicating strong performance.\\n This model is the best performer.\")\n"
   ]
  },
  {
   "cell_type": "code",
   "execution_count": 199,
   "id": "a5261b78-30a2-4a52-943a-50c6c50bbdab",
   "metadata": {},
   "outputs": [
    {
     "name": "stdout",
     "output_type": "stream",
     "text": [
      "Decision Tree Classifier and KNN (k-Nearest Neighbors):\n",
      " Accuracy: 0.947368 (Lowest) \n",
      " Identical performance for both models, with slightly lower precision and recall compared to the other models.\n",
      " These are the worst-performing models in this comparison.\n"
     ]
    }
   ],
   "source": [
    "print(\"Decision Tree Classifier and KNN (k-Nearest Neighbors):\\n Accuracy: 0.947368 (Lowest) \\n Identical performance for both models, with slightly lower precision and recall compared to the other models.\\n These are the worst-performing models in this comparison.\")"
   ]
  },
  {
   "cell_type": "code",
   "execution_count": null,
   "id": "0edb8dc2-dc88-455a-a4d5-837bc50981ae",
   "metadata": {},
   "outputs": [],
   "source": []
  }
 ],
 "metadata": {
  "kernelspec": {
   "display_name": "Python 3 (ipykernel)",
   "language": "python",
   "name": "python3"
  },
  "language_info": {
   "codemirror_mode": {
    "name": "ipython",
    "version": 3
   },
   "file_extension": ".py",
   "mimetype": "text/x-python",
   "name": "python",
   "nbconvert_exporter": "python",
   "pygments_lexer": "ipython3",
   "version": "3.12.7"
  }
 },
 "nbformat": 4,
 "nbformat_minor": 5
}
